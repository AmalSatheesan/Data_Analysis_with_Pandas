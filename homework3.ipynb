{
 "cells": [
  {
   "cell_type": "markdown",
   "id": "2313b8b8",
   "metadata": {},
   "source": [
    "### Course HandsOn"
   ]
  },
  {
   "cell_type": "code",
   "execution_count": null,
   "id": "629e676c",
   "metadata": {},
   "outputs": [],
   "source": []
  },
  {
   "cell_type": "code",
   "execution_count": null,
   "id": "4e09e65b",
   "metadata": {},
   "outputs": [],
   "source": []
  },
  {
   "cell_type": "markdown",
   "id": "6bdf3980",
   "metadata": {},
   "source": [
    "Import pandas"
   ]
  },
  {
   "cell_type": "code",
   "execution_count": null,
   "id": "e6c7a764",
   "metadata": {},
   "outputs": [],
   "source": []
  },
  {
   "cell_type": "markdown",
   "id": "6a7bb9b9",
   "metadata": {},
   "source": [
    "Read the `titanic3.xls` file and set 'name' as the index"
   ]
  },
  {
   "cell_type": "code",
   "execution_count": null,
   "id": "57598932",
   "metadata": {},
   "outputs": [],
   "source": []
  },
  {
   "cell_type": "markdown",
   "id": "2dc77077",
   "metadata": {},
   "source": [
    "Drop the following columns: `['home.dest', 'embarked', 'sibsp', 'parch']`"
   ]
  },
  {
   "cell_type": "code",
   "execution_count": null,
   "id": "3943b925",
   "metadata": {},
   "outputs": [],
   "source": []
  },
  {
   "cell_type": "markdown",
   "id": "ae4450a7",
   "metadata": {},
   "source": [
    "Filter out all the passengers which did not survive."
   ]
  },
  {
   "cell_type": "code",
   "execution_count": null,
   "id": "2358df88",
   "metadata": {},
   "outputs": [],
   "source": []
  },
  {
   "cell_type": "markdown",
   "id": "e449487b",
   "metadata": {},
   "source": [
    "Considering that the **body** column is only used for passengers who did not survive, drop that column, and then do the same thing for the **survived** column."
   ]
  },
  {
   "cell_type": "code",
   "execution_count": null,
   "id": "502abab4",
   "metadata": {},
   "outputs": [],
   "source": []
  },
  {
   "cell_type": "markdown",
   "id": "d696f643",
   "metadata": {},
   "source": [
    "What is the max **fare** in **3rd class**?"
   ]
  },
  {
   "cell_type": "code",
   "execution_count": null,
   "id": "c8c8333a",
   "metadata": {},
   "outputs": [],
   "source": []
  },
  {
   "cell_type": "markdown",
   "id": "3b0a2fd4",
   "metadata": {},
   "source": [
    "Rename the index name of 'name' to 'Passenger'"
   ]
  },
  {
   "cell_type": "code",
   "execution_count": null,
   "id": "02aab238",
   "metadata": {},
   "outputs": [],
   "source": []
  },
  {
   "cell_type": "markdown",
   "id": "23eb0c26",
   "metadata": {},
   "source": [
    "**BONUS**\n",
    "\n",
    "Create a new column that's called \"Free Coffee\", insert 1 if a passenger is either in 1st or 2nd class, otherwise insert 0"
   ]
  },
  {
   "cell_type": "code",
   "execution_count": null,
   "id": "9182fad8",
   "metadata": {},
   "outputs": [],
   "source": []
  },
  {
   "cell_type": "markdown",
   "id": "126c79ed",
   "metadata": {},
   "source": [
    "Use value_counts() to verify that 3rd class doesn't get any free coffee"
   ]
  },
  {
   "cell_type": "code",
   "execution_count": null,
   "id": "98f2fa1d",
   "metadata": {},
   "outputs": [],
   "source": []
  },
  {
   "cell_type": "code",
   "execution_count": null,
   "id": "1ceaaa78",
   "metadata": {},
   "outputs": [],
   "source": []
  }
 ],
 "metadata": {
  "kernelspec": {
   "display_name": "Python 3 (ipykernel)",
   "language": "python",
   "name": "python3"
  },
  "language_info": {
   "codemirror_mode": {
    "name": "ipython",
    "version": 3
   },
   "file_extension": ".py",
   "mimetype": "text/x-python",
   "name": "python",
   "nbconvert_exporter": "python",
   "pygments_lexer": "ipython3",
   "version": "3.10.9"
  }
 },
 "nbformat": 4,
 "nbformat_minor": 5
}
